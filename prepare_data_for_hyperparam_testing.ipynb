{
 "cells": [
  {
   "cell_type": "code",
   "execution_count": 12,
   "id": "95abd999",
   "metadata": {},
   "outputs": [],
   "source": [
    "import torch\n",
    "import numpy as np\n",
    "import anndata as ad\n",
    "from sklearn.metrics import confusion_matrix, f1_score, precision_score, log_loss\n",
    "from sklearn.model_selection import train_test_split\n",
    "from sklearn.preprocessing import LabelEncoder\n",
    "import joblib"
   ]
  },
  {
   "cell_type": "code",
   "execution_count": null,
   "id": "cfa8ab66",
   "metadata": {},
   "outputs": [],
   "source": [
    "adata_main = ad.read_h5ad('Data/GSE155249_main.h5ad')"
   ]
  },
  {
   "cell_type": "markdown",
   "id": "aeafa9dd",
   "metadata": {},
   "source": [
    "### We are going to use only highly variable genes to speed up computations"
   ]
  },
  {
   "cell_type": "code",
   "execution_count": 14,
   "id": "b19e1f65",
   "metadata": {},
   "outputs": [
    {
     "name": "stdout",
     "output_type": "stream",
     "text": [
      "Adata shape: (77146, 4488)\n",
      "Adata main shape: (77146, 21819)\n"
     ]
    }
   ],
   "source": [
    "adata = adata_main[:, adata_main.var['highly_variable'] == True]\n",
    "print(f\"Adata shape: {adata.shape}\")\n",
    "print(f\"Adata main shape: {adata_main.shape}\")"
   ]
  },
  {
   "cell_type": "code",
   "execution_count": 15,
   "id": "ac74ee3c",
   "metadata": {},
   "outputs": [],
   "source": [
    "def prepare_data(adata):\n",
    "    X = adata.X.toarray() if not isinstance(adata.X, np.ndarray) else adata.X\n",
    "    y = adata.obs['Cluster'].values\n",
    "    le = LabelEncoder()\n",
    "    y_encoded = le.fit_transform(y)\n",
    "\n",
    "    # First split: train (70%) and temp (30%)\n",
    "    X_train, X_temp, y_train, y_temp = train_test_split(\n",
    "        X, y_encoded, test_size=0.3, random_state=42, stratify=y_encoded\n",
    "    )\n",
    "\n",
    "    # Second split: val (20%) and test (10%) from temp (30%)\n",
    "    X_val, X_test, y_val, y_test = train_test_split(\n",
    "        X_temp, y_temp, test_size=1/3, random_state=42, stratify=y_temp\n",
    "    )\n",
    "\n",
    "    return X_train, X_val, X_test, y_train, y_val, y_test, le"
   ]
  },
  {
   "cell_type": "code",
   "execution_count": 16,
   "id": "759adaa4",
   "metadata": {},
   "outputs": [],
   "source": [
    "X_train, X_val, X_test, y_train, y_val, y_test, le = prepare_data(adata)"
   ]
  },
  {
   "cell_type": "code",
   "execution_count": 17,
   "id": "bd98f4df",
   "metadata": {},
   "outputs": [
    {
     "name": "stdout",
     "output_type": "stream",
     "text": [
      "X_train shape: (54002, 4488), y_train shape: (54002,)\n",
      "X_val shape: (15429, 4488), y_val shape: (15429,)\n",
      "X_test shape: (7715, 4488), y_test shape: (7715,)\n"
     ]
    }
   ],
   "source": [
    "print(f\"X_train shape: {X_train.shape}, y_train shape: {y_train.shape}\")\n",
    "print(f\"X_val shape: {X_val.shape}, y_val shape: {y_val.shape}\")\n",
    "print(f\"X_test shape: {X_test.shape}, y_test shape: {y_test.shape}\")"
   ]
  },
  {
   "cell_type": "markdown",
   "id": "2d9982cf",
   "metadata": {},
   "source": [
    "### Save the data for future reference"
   ]
  },
  {
   "cell_type": "code",
   "execution_count": null,
   "id": "98687590",
   "metadata": {},
   "outputs": [
    {
     "data": {
      "text/plain": [
       "['/raid/brunopsz/Moddeling/DATA/label_encoder.pkl']"
      ]
     },
     "execution_count": 18,
     "metadata": {},
     "output_type": "execute_result"
    }
   ],
   "source": [
    "np.savez_compressed(\"DATA/train_data.npz\", X=X_train, y=y_train)\n",
    "np.savez_compressed(\"DATA/val_data.npz\", X=X_val, y=y_val)\n",
    "np.savez_compressed(\"DATA/test_data.npz\", X=X_test, y=y_test)\n",
    "joblib.dump(le, 'DATA/label_encoder.pkl')"
   ]
  },
  {
   "cell_type": "code",
   "execution_count": null,
   "id": "aeb2cfea",
   "metadata": {},
   "outputs": [],
   "source": []
  }
 ],
 "metadata": {
  "kernelspec": {
   "display_name": "hydr_env",
   "language": "python",
   "name": "python3"
  },
  "language_info": {
   "codemirror_mode": {
    "name": "ipython",
    "version": 3
   },
   "file_extension": ".py",
   "mimetype": "text/x-python",
   "name": "python",
   "nbconvert_exporter": "python",
   "pygments_lexer": "ipython3",
   "version": "3.8.10"
  }
 },
 "nbformat": 4,
 "nbformat_minor": 5
}
