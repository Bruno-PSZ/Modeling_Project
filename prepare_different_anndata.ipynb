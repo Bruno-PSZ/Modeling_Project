{
 "cells": [
  {
   "cell_type": "code",
   "execution_count": 1,
   "id": "b4bb6d3c",
   "metadata": {},
   "outputs": [],
   "source": [
    "import anndata as ad\n",
    "import scanpy as sc"
   ]
  },
  {
   "cell_type": "markdown",
   "id": "450e0a79",
   "metadata": {},
   "source": [
    "### Load main data"
   ]
  },
  {
   "cell_type": "code",
   "execution_count": null,
   "id": "201ba2f0",
   "metadata": {},
   "outputs": [],
   "source": [
    "adata_main = ad.read_h5ad('DATA/GSE155249_main.h5ad')"
   ]
  },
  {
   "cell_type": "markdown",
   "id": "53732e2a",
   "metadata": {},
   "source": [
    "### Select only HVG"
   ]
  },
  {
   "cell_type": "code",
   "execution_count": 3,
   "id": "0a107cff",
   "metadata": {},
   "outputs": [
    {
     "name": "stdout",
     "output_type": "stream",
     "text": [
      "Adata shape: (77146, 4488)\n",
      "Adata main shape: (77146, 21819)\n"
     ]
    }
   ],
   "source": [
    "adata = adata_main[:, adata_main.var['highly_variable'] == True]\n",
    "print(f\"Adata shape: {adata.shape}\")\n",
    "print(f\"Adata main shape: {adata_main.shape}\")"
   ]
  },
  {
   "cell_type": "code",
   "execution_count": null,
   "id": "3f2fdb7f",
   "metadata": {},
   "outputs": [],
   "source": [
    "adata.write_h5ad(f'DATA/ANNDATAS/adata_4488(all)_hvg.h5ad')"
   ]
  },
  {
   "cell_type": "markdown",
   "id": "a9b9528b",
   "metadata": {},
   "source": [
    "### Prepare different anndata with different number of HVG"
   ]
  },
  {
   "cell_type": "code",
   "execution_count": null,
   "id": "4598974a",
   "metadata": {},
   "outputs": [
    {
     "name": "stderr",
     "output_type": "stream",
     "text": [
      "/raid/brunopsz/Moddeling/Env/scvi_env/lib/python3.8/site-packages/scanpy/preprocessing/_highly_variable_genes.py:553: ImplicitModificationWarning: Trying to modify attribute `._uns` of view, initializing view as actual.\n",
      "  adata.uns[\"hvg\"] = {\"flavor\": flavor}\n"
     ]
    },
    {
     "name": "stdout",
     "output_type": "stream",
     "text": [
      "Adata HVG shape (500): (77146, 500)\n",
      "Saved adata with 500 HVGs to /raid/brunopsz/Moddeling/DATA/ANNDATAS/adata_500_hvg.h5ad\n"
     ]
    }
   ],
   "source": [
    "HVG_VALUES = [100, 200, 500, 1000, 2000]\n",
    "\n",
    "for n_hvg in HVG_VALUES:\n",
    "    sc.pp.highly_variable_genes(\n",
    "        adata,\n",
    "        flavor=\"cell_ranger\",\n",
    "        n_top_genes=n_hvg,\n",
    "        subset=False\n",
    "    )\n",
    "    adata_hvg = adata[:, adata.var['highly_variable'] == True]\n",
    "    print(f\"Adata HVG shape ({n_hvg}): {adata_hvg.shape}\")\n",
    "    adata_hvg.write_h5ad(f'DATA/ANNDATAS/adata_{n_hvg}_hvg.h5ad')\n",
    "    print(f\"Saved adata with {n_hvg} HVGs to DATA/ANNDATAS/adata_{n_hvg}_hvg.h5ad\")"
   ]
  },
  {
   "cell_type": "markdown",
   "id": "3a86970e",
   "metadata": {},
   "source": [
    "### Prepare one big anndata with 10k HVGs"
   ]
  },
  {
   "cell_type": "code",
   "execution_count": null,
   "id": "c0848e3a",
   "metadata": {},
   "outputs": [],
   "source": [
    "sc.pp.highly_variable_genes(\n",
    "    adata_main,shape\n",
    "    flavor=\"cell_ranger\",\n",
    "    n_top_genes=10000,\n",
    "    subset=False\n",
    ")\n",
    "adata_hvg = adata_main[:, adata_main.var['highly_variable'] == True]"
   ]
  },
  {
   "cell_type": "code",
   "execution_count": 5,
   "id": "c785b369",
   "metadata": {},
   "outputs": [
    {
     "data": {
      "text/plain": [
       "(77146, 10000)"
      ]
     },
     "execution_count": 5,
     "metadata": {},
     "output_type": "execute_result"
    }
   ],
   "source": [
    "adata_hvg.shape"
   ]
  },
  {
   "cell_type": "code",
   "execution_count": null,
   "id": "ae7d0ec8",
   "metadata": {},
   "outputs": [],
   "source": [
    "adata_hvg.write_h5ad(f'DATA/ANNDATAS/adata_10000_hvg.h5ad')"
   ]
  },
  {
   "cell_type": "code",
   "execution_count": null,
   "id": "b979aa20",
   "metadata": {},
   "outputs": [],
   "source": []
  }
 ],
 "metadata": {
  "kernelspec": {
   "display_name": "scvi_env",
   "language": "python",
   "name": "python3"
  },
  "language_info": {
   "codemirror_mode": {
    "name": "ipython",
    "version": 3
   },
   "file_extension": ".py",
   "mimetype": "text/x-python",
   "name": "python",
   "nbconvert_exporter": "python",
   "pygments_lexer": "ipython3",
   "version": "3.8.10"
  }
 },
 "nbformat": 4,
 "nbformat_minor": 5
}
