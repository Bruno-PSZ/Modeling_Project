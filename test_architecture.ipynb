{
 "cells": [
  {
   "cell_type": "code",
   "execution_count": 1,
   "id": "3afd5da7",
   "metadata": {},
   "outputs": [],
   "source": [
    "import torch\n",
    "import torch.utils.data as data\n",
    "import torch.nn as nn\n",
    "import torch.optim as optim\n",
    "\n",
    "import joblib\n",
    "import matplotlib.pyplot as plt\n",
    "import matplotlib.image as mpimg\n",
    "import os\n",
    "from get_api_keys import get_secret\n",
    "import numpy as np\n",
    "import anndata as ad\n",
    "from sklearn.model_selection import train_test_split\n",
    "from sklearn.preprocessing import LabelEncoder\n",
    "from sklearn.metrics import accuracy_score, precision_score, f1_score\n",
    "from tqdm import tqdm\n",
    "from clearml import Logger\n",
    "import clearml\n",
    "from clearml import Task"
   ]
  },
  {
   "cell_type": "code",
   "execution_count": null,
   "id": "5fdb38e1",
   "metadata": {},
   "outputs": [],
   "source": [
    "adata_main = ad.read_h5ad('DATA/GSE155249_main.h5ad')"
   ]
  },
  {
   "cell_type": "markdown",
   "id": "c931f204",
   "metadata": {},
   "source": [
    "### 1. We are going to select our architecture based on the Classifier results on validation data\n",
    "\n",
    "### 2. We are going to use only highly variable genes to speed up computations"
   ]
  },
  {
   "cell_type": "code",
   "execution_count": 3,
   "id": "1e31ed67",
   "metadata": {},
   "outputs": [
    {
     "name": "stdout",
     "output_type": "stream",
     "text": [
      "Adata shape: (77146, 4488)\n",
      "Adata main shape: (77146, 21819)\n"
     ]
    }
   ],
   "source": [
    "adata = adata_main[:, adata_main.var['highly_variable'] == True]\n",
    "print(f\"Adata shape: {adata.shape}\")\n",
    "print(f\"Adata main shape: {adata_main.shape}\")"
   ]
  },
  {
   "cell_type": "markdown",
   "id": "b4546c13",
   "metadata": {},
   "source": [
    "### Setting up ClearML to track experiment results"
   ]
  },
  {
   "cell_type": "code",
   "execution_count": 2,
   "id": "4dccb6f1",
   "metadata": {},
   "outputs": [
    {
     "name": "stdout",
     "output_type": "stream",
     "text": [
      "env: CLEARML_WEB_HOST=https://app.clear.ml/\n",
      "env: CLEARML_API_HOST=https://api.clear.ml\n",
      "env: CLEARML_FILES_HOST=https://files.clear.ml\n"
     ]
    }
   ],
   "source": [
    "%env CLEARML_WEB_HOST=https://app.clear.ml/\n",
    "%env CLEARML_API_HOST=https://api.clear.ml\n",
    "%env CLEARML_FILES_HOST=https://files.clear.ml\n",
    "os.environ[\"CLEARML_API_ACCESS_KEY\"] = get_secret(\"CLEARML_API_ACCESS_KEY\")\n",
    "os.environ[\"CLEARML_API_SECRET_KEY\"] = get_secret(\"CLEARML_API_SECRET_KEY\")\n",
    "\n",
    "clearml.browser_login()"
   ]
  },
  {
   "cell_type": "markdown",
   "id": "c1569382",
   "metadata": {},
   "source": [
    "### Load train and val data (prepared in different notebook)"
   ]
  },
  {
   "cell_type": "code",
   "execution_count": null,
   "id": "aec9f98d",
   "metadata": {},
   "outputs": [],
   "source": [
    "train = np.load(\"DATA/train_data.npz\")\n",
    "X_train, y_train = train[\"X\"], train[\"y\"]\n",
    "\n",
    "val = np.load(\"DATA/val_data.npz\")\n",
    "X_val, y_val = val[\"X\"], val[\"y\"]\n",
    "\n",
    "label_encoder = joblib.load('DATA/label_encoder.pkl')"
   ]
  },
  {
   "cell_type": "code",
   "execution_count": 6,
   "id": "ec5e7c18",
   "metadata": {},
   "outputs": [
    {
     "name": "stdout",
     "output_type": "stream",
     "text": [
      "X_train shape: (54002, 4488), y_train shape: (54002,)\n",
      "X_val shape: (15429, 4488), y_val shape: (15429,)\n"
     ]
    }
   ],
   "source": [
    "print(f\"X_train shape: {X_train.shape}, y_train shape: {y_train.shape}\")\n",
    "print(f\"X_val shape: {X_val.shape}, y_val shape: {y_val.shape}\")"
   ]
  },
  {
   "cell_type": "markdown",
   "id": "4d4c4446",
   "metadata": {},
   "source": [
    "### Prepare Torch Datasets and DataLoaders"
   ]
  },
  {
   "cell_type": "code",
   "execution_count": null,
   "id": "963a8f24",
   "metadata": {},
   "outputs": [],
   "source": [
    "class scRNAseqDataset(data.Dataset):\n",
    "\n",
    "    def __init__(self, data, labels):\n",
    "        super().__init__()\n",
    "        self.data = data\n",
    "        self.label = labels\n",
    "\n",
    "    def __len__(self):\n",
    "        return self.data.shape[0]\n",
    "\n",
    "    def __getitem__(self, idx):\n",
    "        data_point = self.data[idx]\n",
    "        data_label = self.label[idx]\n",
    "        return data_point, data_label"
   ]
  },
  {
   "cell_type": "code",
   "execution_count": 8,
   "id": "5d2f9aa7",
   "metadata": {},
   "outputs": [],
   "source": [
    "train_dataset = scRNAseqDataset(torch.from_numpy(X_train), torch.from_numpy(y_train))\n",
    "val_dataset = scRNAseqDataset(torch.from_numpy(X_val), torch.from_numpy(y_val))\n",
    "\n",
    "train_loader = data.DataLoader(train_dataset, batch_size=128, shuffle=True)\n",
    "val_loader = data.DataLoader(val_dataset, batch_size=128, shuffle=True)"
   ]
  },
  {
   "cell_type": "code",
   "execution_count": 9,
   "id": "3b9b98f1",
   "metadata": {},
   "outputs": [],
   "source": [
    "class RNAseqClassifier(nn.Module):\n",
    "    def __init__(self, input_size, layer_config, output_size):\n",
    "        \"\"\"\n",
    "        Parameters:\n",
    "        - input_size (int): Number of input features (genes)\n",
    "        - layer_config (list[dict]): List of layer definitions. Each dict should have:\n",
    "            - 'size' (int): Hidden layer size\n",
    "            - 'batchnorm' (bool): Whether to apply BatchNorm\n",
    "            - 'dropout' (float or None): Dropout rate\n",
    "        - output_size (int): Number of output classes\n",
    "        \"\"\"\n",
    "        super().__init__()\n",
    "\n",
    "        layers = []\n",
    "        in_dim = input_size\n",
    "\n",
    "        for cfg in layer_config:\n",
    "            out_dim = cfg[\"size\"]\n",
    "            layers.append(nn.Linear(in_dim, out_dim))\n",
    "\n",
    "            if cfg.get(\"batchnorm\", False):\n",
    "                layers.append(nn.BatchNorm1d(out_dim))\n",
    "\n",
    "            layers.append(nn.ReLU())\n",
    "\n",
    "            if cfg.get(\"dropout\") is not None:\n",
    "                layers.append(nn.Dropout(cfg[\"dropout\"]))\n",
    "\n",
    "            in_dim = out_dim\n",
    "\n",
    "        # Final classification layer\n",
    "        layers.append(nn.Linear(in_dim, output_size))\n",
    "\n",
    "        self.network = nn.Sequential(*layers)\n",
    "\n",
    "    def forward(self, x):\n",
    "        return self.network(x)"
   ]
  },
  {
   "cell_type": "code",
   "execution_count": 10,
   "id": "546104dd",
   "metadata": {},
   "outputs": [],
   "source": [
    "def compute_metrics(preds, targets, prefix, epoch, task, model_name):\n",
    "    \"\"\"\n",
    "    Computes and logs classification metrics to ClearML.\n",
    "\n",
    "    Parameters:\n",
    "        preds (list or np.array): Predicted class labels\n",
    "        targets (list or np.array): True class labels\n",
    "        prefix (str): Either \"Train\" or \"Validation\"\n",
    "        epoch (int): Epoch number for ClearML logging\n",
    "        task (clearml.Task): ClearML Task object\n",
    "        model_name (str): Name of the model being evaluated\n",
    "    \"\"\"\n",
    "    acc = accuracy_score(targets, preds)\n",
    "    prec = precision_score(targets, preds, average='macro', zero_division=0)\n",
    "    f1 = f1_score(targets, preds, average='macro', zero_division=0)\n",
    "\n",
    "    logger = task.get_logger()\n",
    "    logger.report_scalar(f\"Accuracy_{prefix}\", model_name, iteration=epoch, value=acc)\n",
    "    logger.report_scalar(f\"Precision_{prefix}\", model_name, iteration=epoch, value=prec)\n",
    "    logger.report_scalar(f\"F1_{prefix}\", model_name, iteration=epoch, value=f1)\n",
    "\n",
    "    return {\"acc\": acc, \"prec\": prec, \"f1\": f1}"
   ]
  },
  {
   "cell_type": "code",
   "execution_count": 11,
   "id": "69c35724",
   "metadata": {},
   "outputs": [],
   "source": [
    "def train_model(model, model_name, train_loader, val_loader, optimizer, num_epochs, device, task):\n",
    "    \"\"\"\n",
    "    Trains the model and logs metrics to ClearML.\n",
    "\n",
    "    Parameters:\n",
    "        model (nn.Module): PyTorch model\n",
    "        model_name (str): Name of the model for logging\n",
    "        train_loader (DataLoader): Training data loader\n",
    "        val_loader (DataLoader): Validation data loader\n",
    "        optimizer (torch.optim.Optimizer): Optimizer\n",
    "        num_epochs (int): Number of training epochs\n",
    "        device (torch.device): CUDA or CPU\n",
    "        task (clearml.Task): Active ClearML task\n",
    "    \"\"\"\n",
    "\n",
    "    criterion = nn.CrossEntropyLoss()\n",
    "    model.to(device)\n",
    "\n",
    "    # ---- Initial validation before training ----\n",
    "    model.eval()\n",
    "    initial_preds, initial_targets = [], []\n",
    "\n",
    "    with torch.no_grad():\n",
    "        for inputs, targets in tqdm(val_loader, desc=\"Initial Validation\"):\n",
    "            inputs, targets = inputs.to(device), targets.to(device)\n",
    "            outputs = model(inputs)\n",
    "            preds = torch.argmax(outputs, dim=1)\n",
    "            initial_preds.extend(preds.cpu().numpy())\n",
    "            initial_targets.extend(targets.cpu().numpy())\n",
    "\n",
    "    compute_metrics(initial_preds, initial_targets, prefix=\"Val\", epoch=0, task=task, model_name=model_name)\n",
    "\n",
    "    # ---- Training loop ----\n",
    "    for epoch in range(1, num_epochs + 1):\n",
    "        model.train()\n",
    "        train_loss = 0.0\n",
    "        train_preds, train_targets = [], []\n",
    "\n",
    "        pbar = tqdm(train_loader, desc=f\"{model_name} | Epoch {epoch}/{num_epochs} [Train]\")\n",
    "        for inputs, targets in pbar:\n",
    "            inputs, targets = inputs.to(device), targets.to(device)\n",
    "\n",
    "            optimizer.zero_grad()\n",
    "            outputs = model(inputs)\n",
    "            loss = criterion(outputs, targets)\n",
    "            loss.backward()\n",
    "            optimizer.step()\n",
    "\n",
    "            train_loss += loss.item() * inputs.size(0)\n",
    "            preds = torch.argmax(outputs, dim=1)\n",
    "            train_preds.extend(preds.cpu().numpy())\n",
    "            train_targets.extend(targets.cpu().numpy())\n",
    "\n",
    "        # Log training loss\n",
    "        task.get_logger().report_scalar(\"Loss_Train\", model_name, iteration=epoch, value=train_loss / len(train_loader.dataset))\n",
    "        train_metrics = compute_metrics(train_preds, train_targets, prefix=\"Train\", epoch=epoch, task=task, model_name=model_name)\n",
    "\n",
    "        # ---- Validation ----\n",
    "        model.eval()\n",
    "        val_loss = 0.0\n",
    "        val_preds, val_targets = [], []\n",
    "\n",
    "        with torch.no_grad():\n",
    "            pbar = tqdm(val_loader, desc=f\"Epoch {epoch}/{num_epochs} [Val]\")\n",
    "            for inputs, targets in pbar:\n",
    "                inputs, targets = inputs.to(device), targets.to(device)\n",
    "                outputs = model(inputs)\n",
    "                loss = criterion(outputs, targets)\n",
    "                val_loss += loss.item() * inputs.size(0)\n",
    "\n",
    "                preds = torch.argmax(outputs, dim=1)\n",
    "                val_preds.extend(preds.cpu().numpy())\n",
    "                val_targets.extend(targets.cpu().numpy())\n",
    "\n",
    "        # Log validation loss\n",
    "        task.get_logger().report_scalar(\"Loss_Val\", model_name, iteration=epoch, value=val_loss / len(val_loader.dataset))\n",
    "        val_metrics = compute_metrics(val_preds, val_targets, prefix=\"Val\", epoch=epoch, task=task, model_name=model_name)\n",
    "\n",
    "        # Print epoch summary\n",
    "        print(\n",
    "            f\"Epoch {epoch}/{num_epochs} | \"\n",
    "            f\"Train Acc: {train_metrics['acc']:.4f} | Val Acc: {val_metrics['acc']:.4f} | \"\n",
    "            f\"Train F1: {train_metrics['f1']:.4f} | Val F1: {val_metrics['f1']:.4f}\"\n",
    "        )\n"
   ]
  },
  {
   "cell_type": "code",
   "execution_count": 14,
   "id": "234f31f9",
   "metadata": {},
   "outputs": [],
   "source": [
    "def predict_sample(model, sample, device, label_encoder):\n",
    "\n",
    "    model.eval()\n",
    "\n",
    "    if not isinstance(sample, torch.Tensor):\n",
    "        sample = torch.tensor(sample, dtype=torch.float32)\n",
    "    \n",
    "    sample = sample.unsqueeze(0).to(device)\n",
    "\n",
    "    with torch.no_grad():\n",
    "        output = model(sample)\n",
    "        pred_idx = torch.argmax(output, dim=1).item()\n",
    "        pred_label = label_encoder.inverse_transform([pred_idx])[0]\n",
    "\n",
    "    return pred_idx, pred_label"
   ]
  },
  {
   "cell_type": "code",
   "execution_count": 16,
   "id": "6ac851d4",
   "metadata": {},
   "outputs": [],
   "source": [
    "models_to_test = [\n",
    "    RNAseqClassifier(\n",
    "        input_size=X_train.shape[1],\n",
    "        layer_config=[\n",
    "            {\"size\": 512, \"batchnorm\": True, \"dropout\": 0.5},\n",
    "            {\"size\": 256, \"batchnorm\": True, \"dropout\": 0.5},\n",
    "            {\"size\": 128, \"batchnorm\": True, \"dropout\": None}\n",
    "        ],\n",
    "        output_size=len(np.unique(y_train))\n",
    "    ),\n",
    "    RNAseqClassifier(\n",
    "        input_size=X_train.shape[1],\n",
    "        layer_config=[\n",
    "            {\"size\": 512, \"batchnorm\": False, \"dropout\": None},\n",
    "            {\"size\": 256, \"batchnorm\": False, \"dropout\": None},\n",
    "            {\"size\": 128, \"batchnorm\": False, \"dropout\": None}\n",
    "        ],\n",
    "        output_size=len(np.unique(y_train))\n",
    "    ),\n",
    "    RNAseqClassifier(\n",
    "        input_size=X_train.shape[1],\n",
    "        layer_config = [\n",
    "            {\"size\": 256, \"batchnorm\": True, \"dropout\": 0.3},\n",
    "            {\"size\": 128, \"batchnorm\": True, \"dropout\": 0.3},\n",
    "            {\"size\": 64, \"batchnorm\": True, \"dropout\": None}\n",
    "        ],\n",
    "        output_size=len(np.unique(y_train))\n",
    "    ),\n",
    "    RNAseqClassifier(\n",
    "        input_size=X_train.shape[1],\n",
    "        layer_config = [\n",
    "            {\"size\": 128, \"batchnorm\": True, \"dropout\": 0.2},\n",
    "            {\"size\": 64, \"batchnorm\": True, \"dropout\": 0.2}\n",
    "        ],\n",
    "        output_size=len(np.unique(y_train))\n",
    "    ),\n",
    "    RNAseqClassifier(\n",
    "        input_size=X_train.shape[1],\n",
    "        layer_config=[\n",
    "            {\"size\": 1024, \"batchnorm\": True, \"dropout\": 0.5},\n",
    "            {\"size\": 512, \"batchnorm\": True, \"dropout\": 0.5},\n",
    "            {\"size\": 256, \"batchnorm\": True, \"dropout\": 0.5},\n",
    "            {\"size\": 128, \"batchnorm\": True, \"dropout\": None}\n",
    "        ],\n",
    "        output_size=len(np.unique(y_train))\n",
    "    )\n",
    "]"
   ]
  },
  {
   "cell_type": "code",
   "execution_count": 17,
   "id": "a64a9373",
   "metadata": {},
   "outputs": [
    {
     "name": "stdout",
     "output_type": "stream",
     "text": [
      "ClearML Task: created new task id=a04fad835234420f885a3719f156586d\n",
      "2025-05-25 11:57:52,843 - clearml.Task - INFO - Storing jupyter notebook directly as code\n",
      "ClearML results page: https://app.clear.ml/projects/e7ad8385c3454c3f88f0353baedffffb/experiments/a04fad835234420f885a3719f156586d/output/log\n",
      "Training model 1/5\n"
     ]
    },
    {
     "name": "stderr",
     "output_type": "stream",
     "text": [
      "Initial Validation: 100%|██████████| 121/121 [00:01<00:00, 77.70it/s]\n",
      "Model_1 | Epoch 1/10 [Train]: 100%|██████████| 422/422 [00:01<00:00, 269.18it/s]\n",
      "Epoch 1/10 [Val]: 100%|██████████| 121/121 [00:00<00:00, 597.96it/s]\n",
      "Model_1 | Epoch 2/10 [Train]:   6%|▋         | 27/422 [00:00<00:01, 261.81it/s]"
     ]
    },
    {
     "name": "stdout",
     "output_type": "stream",
     "text": [
      "Epoch 1/10 | Train Acc: 0.5743 | Val Acc: 0.7600 | Train F1: 0.2503 | Val F1: 0.4250\n"
     ]
    },
    {
     "name": "stderr",
     "output_type": "stream",
     "text": [
      "Model_1 | Epoch 2/10 [Train]: 100%|██████████| 422/422 [00:01<00:00, 254.47it/s]\n",
      "Epoch 2/10 [Val]: 100%|██████████| 121/121 [00:00<00:00, 638.00it/s]\n",
      "Model_1 | Epoch 3/10 [Train]:   6%|▌         | 26/422 [00:00<00:01, 251.00it/s]"
     ]
    },
    {
     "name": "stdout",
     "output_type": "stream",
     "text": [
      "Epoch 2/10 | Train Acc: 0.7749 | Val Acc: 0.8446 | Train F1: 0.4800 | Val F1: 0.6432\n"
     ]
    },
    {
     "name": "stderr",
     "output_type": "stream",
     "text": [
      "Model_1 | Epoch 3/10 [Train]: 100%|██████████| 422/422 [00:01<00:00, 258.05it/s]\n",
      "Epoch 3/10 [Val]: 100%|██████████| 121/121 [00:00<00:00, 626.53it/s]\n",
      "Model_1 | Epoch 4/10 [Train]:   6%|▌         | 25/422 [00:00<00:01, 241.47it/s]"
     ]
    },
    {
     "name": "stdout",
     "output_type": "stream",
     "text": [
      "Epoch 3/10 | Train Acc: 0.8554 | Val Acc: 0.8691 | Train F1: 0.6660 | Val F1: 0.7217\n"
     ]
    },
    {
     "name": "stderr",
     "output_type": "stream",
     "text": [
      "Model_1 | Epoch 4/10 [Train]: 100%|██████████| 422/422 [00:01<00:00, 247.30it/s]\n",
      "Epoch 4/10 [Val]: 100%|██████████| 121/121 [00:00<00:00, 626.47it/s]\n",
      "Model_1 | Epoch 5/10 [Train]:   6%|▋         | 27/422 [00:00<00:01, 263.06it/s]"
     ]
    },
    {
     "name": "stdout",
     "output_type": "stream",
     "text": [
      "Epoch 4/10 | Train Acc: 0.8929 | Val Acc: 0.8776 | Train F1: 0.7417 | Val F1: 0.7550\n"
     ]
    },
    {
     "name": "stderr",
     "output_type": "stream",
     "text": [
      "Model_1 | Epoch 5/10 [Train]: 100%|██████████| 422/422 [00:01<00:00, 264.07it/s]\n",
      "Epoch 5/10 [Val]: 100%|██████████| 121/121 [00:00<00:00, 605.04it/s]\n",
      "Model_1 | Epoch 6/10 [Train]:   6%|▋         | 27/422 [00:00<00:01, 269.87it/s]"
     ]
    },
    {
     "name": "stdout",
     "output_type": "stream",
     "text": [
      "Epoch 5/10 | Train Acc: 0.9156 | Val Acc: 0.8760 | Train F1: 0.7734 | Val F1: 0.7565\n"
     ]
    },
    {
     "name": "stderr",
     "output_type": "stream",
     "text": [
      "Model_1 | Epoch 6/10 [Train]: 100%|██████████| 422/422 [00:01<00:00, 252.66it/s]\n",
      "Epoch 6/10 [Val]: 100%|██████████| 121/121 [00:00<00:00, 573.21it/s]\n",
      "Model_1 | Epoch 7/10 [Train]:   6%|▋         | 27/422 [00:00<00:01, 266.40it/s]"
     ]
    },
    {
     "name": "stdout",
     "output_type": "stream",
     "text": [
      "Epoch 6/10 | Train Acc: 0.9333 | Val Acc: 0.8750 | Train F1: 0.7905 | Val F1: 0.7579\n"
     ]
    },
    {
     "name": "stderr",
     "output_type": "stream",
     "text": [
      "Model_1 | Epoch 7/10 [Train]: 100%|██████████| 422/422 [00:01<00:00, 258.04it/s]\n",
      "Epoch 7/10 [Val]: 100%|██████████| 121/121 [00:00<00:00, 623.66it/s]\n",
      "Model_1 | Epoch 8/10 [Train]:   6%|▋         | 27/422 [00:00<00:01, 266.61it/s]"
     ]
    },
    {
     "name": "stdout",
     "output_type": "stream",
     "text": [
      "Epoch 7/10 | Train Acc: 0.9446 | Val Acc: 0.8769 | Train F1: 0.8013 | Val F1: 0.7611\n"
     ]
    },
    {
     "name": "stderr",
     "output_type": "stream",
     "text": [
      "Model_1 | Epoch 8/10 [Train]: 100%|██████████| 422/422 [00:01<00:00, 256.42it/s]\n",
      "Epoch 8/10 [Val]: 100%|██████████| 121/121 [00:00<00:00, 633.20it/s]\n",
      "Model_1 | Epoch 9/10 [Train]:   7%|▋         | 28/422 [00:00<00:01, 269.95it/s]"
     ]
    },
    {
     "name": "stdout",
     "output_type": "stream",
     "text": [
      "Epoch 8/10 | Train Acc: 0.9558 | Val Acc: 0.8744 | Train F1: 0.8175 | Val F1: 0.7843\n"
     ]
    },
    {
     "name": "stderr",
     "output_type": "stream",
     "text": [
      "Model_1 | Epoch 9/10 [Train]: 100%|██████████| 422/422 [00:01<00:00, 259.04it/s]\n",
      "Epoch 9/10 [Val]: 100%|██████████| 121/121 [00:00<00:00, 609.61it/s]\n",
      "Model_1 | Epoch 10/10 [Train]:   6%|▋         | 27/422 [00:00<00:01, 266.51it/s]"
     ]
    },
    {
     "name": "stdout",
     "output_type": "stream",
     "text": [
      "Epoch 9/10 | Train Acc: 0.9621 | Val Acc: 0.8745 | Train F1: 0.8510 | Val F1: 0.8256\n"
     ]
    },
    {
     "name": "stderr",
     "output_type": "stream",
     "text": [
      "Model_1 | Epoch 10/10 [Train]: 100%|██████████| 422/422 [00:01<00:00, 259.02it/s]\n",
      "Epoch 10/10 [Val]: 100%|██████████| 121/121 [00:00<00:00, 635.06it/s]\n",
      "Initial Validation: 100%|██████████| 121/121 [00:00<00:00, 679.55it/s]"
     ]
    },
    {
     "name": "stdout",
     "output_type": "stream",
     "text": [
      "Epoch 10/10 | Train Acc: 0.9706 | Val Acc: 0.8732 | Train F1: 0.8920 | Val F1: 0.8527\n",
      "Model 1 training complete.\n",
      "Training model 2/5\n"
     ]
    },
    {
     "name": "stderr",
     "output_type": "stream",
     "text": [
      "\n",
      "Model_2 | Epoch 1/10 [Train]: 100%|██████████| 422/422 [00:01<00:00, 328.68it/s]\n",
      "Epoch 1/10 [Val]: 100%|██████████| 121/121 [00:00<00:00, 657.83it/s]\n",
      "Model_2 | Epoch 2/10 [Train]:   9%|▉         | 40/422 [00:00<00:00, 392.98it/s]"
     ]
    },
    {
     "name": "stdout",
     "output_type": "stream",
     "text": [
      "Epoch 1/10 | Train Acc: 0.7450 | Val Acc: 0.8760 | Train F1: 0.5692 | Val F1: 0.7728\n"
     ]
    },
    {
     "name": "stderr",
     "output_type": "stream",
     "text": [
      "Model_2 | Epoch 2/10 [Train]: 100%|██████████| 422/422 [00:01<00:00, 376.50it/s]\n",
      "Epoch 2/10 [Val]: 100%|██████████| 121/121 [00:00<00:00, 665.70it/s]\n",
      "Model_2 | Epoch 3/10 [Train]:   8%|▊         | 33/422 [00:00<00:01, 323.02it/s]"
     ]
    },
    {
     "name": "stdout",
     "output_type": "stream",
     "text": [
      "Epoch 2/10 | Train Acc: 0.9204 | Val Acc: 0.8825 | Train F1: 0.8853 | Val F1: 0.8656\n"
     ]
    },
    {
     "name": "stderr",
     "output_type": "stream",
     "text": [
      "Model_2 | Epoch 3/10 [Train]: 100%|██████████| 422/422 [00:01<00:00, 327.86it/s]\n",
      "Epoch 3/10 [Val]: 100%|██████████| 121/121 [00:00<00:00, 652.24it/s]\n",
      "Model_2 | Epoch 4/10 [Train]:   8%|▊         | 32/422 [00:00<00:01, 315.08it/s]"
     ]
    },
    {
     "name": "stdout",
     "output_type": "stream",
     "text": [
      "Epoch 3/10 | Train Acc: 0.9557 | Val Acc: 0.8819 | Train F1: 0.9531 | Val F1: 0.8774\n"
     ]
    },
    {
     "name": "stderr",
     "output_type": "stream",
     "text": [
      "Model_2 | Epoch 4/10 [Train]: 100%|██████████| 422/422 [00:01<00:00, 307.95it/s]\n",
      "Epoch 4/10 [Val]: 100%|██████████| 121/121 [00:00<00:00, 647.04it/s]\n",
      "Model_2 | Epoch 5/10 [Train]:   8%|▊         | 34/422 [00:00<00:01, 330.18it/s]"
     ]
    },
    {
     "name": "stdout",
     "output_type": "stream",
     "text": [
      "Epoch 4/10 | Train Acc: 0.9783 | Val Acc: 0.8805 | Train F1: 0.9798 | Val F1: 0.8777\n"
     ]
    },
    {
     "name": "stderr",
     "output_type": "stream",
     "text": [
      "Model_2 | Epoch 5/10 [Train]: 100%|██████████| 422/422 [00:01<00:00, 303.56it/s]\n",
      "Epoch 5/10 [Val]: 100%|██████████| 121/121 [00:00<00:00, 661.92it/s]\n",
      "Model_2 | Epoch 6/10 [Train]:   7%|▋         | 31/422 [00:00<00:01, 300.74it/s]"
     ]
    },
    {
     "name": "stdout",
     "output_type": "stream",
     "text": [
      "Epoch 5/10 | Train Acc: 0.9917 | Val Acc: 0.8807 | Train F1: 0.9925 | Val F1: 0.8829\n"
     ]
    },
    {
     "name": "stderr",
     "output_type": "stream",
     "text": [
      "Model_2 | Epoch 6/10 [Train]: 100%|██████████| 422/422 [00:01<00:00, 298.99it/s]\n",
      "Epoch 6/10 [Val]: 100%|██████████| 121/121 [00:00<00:00, 653.10it/s]\n",
      "Model_2 | Epoch 7/10 [Train]:   8%|▊         | 32/422 [00:00<00:01, 319.86it/s]"
     ]
    },
    {
     "name": "stdout",
     "output_type": "stream",
     "text": [
      "Epoch 6/10 | Train Acc: 0.9979 | Val Acc: 0.8815 | Train F1: 0.9984 | Val F1: 0.8848\n"
     ]
    },
    {
     "name": "stderr",
     "output_type": "stream",
     "text": [
      "Model_2 | Epoch 7/10 [Train]: 100%|██████████| 422/422 [00:01<00:00, 311.80it/s]\n",
      "Epoch 7/10 [Val]: 100%|██████████| 121/121 [00:00<00:00, 663.37it/s]\n",
      "Model_2 | Epoch 8/10 [Train]:  10%|▉         | 41/422 [00:00<00:00, 402.39it/s]"
     ]
    },
    {
     "name": "stdout",
     "output_type": "stream",
     "text": [
      "Epoch 7/10 | Train Acc: 0.9996 | Val Acc: 0.8813 | Train F1: 0.9998 | Val F1: 0.8853\n"
     ]
    },
    {
     "name": "stderr",
     "output_type": "stream",
     "text": [
      "Model_2 | Epoch 8/10 [Train]: 100%|██████████| 422/422 [00:01<00:00, 321.64it/s]\n",
      "Epoch 8/10 [Val]: 100%|██████████| 121/121 [00:00<00:00, 671.17it/s]\n",
      "Model_2 | Epoch 9/10 [Train]:   7%|▋         | 30/422 [00:00<00:01, 295.12it/s]"
     ]
    },
    {
     "name": "stdout",
     "output_type": "stream",
     "text": [
      "Epoch 8/10 | Train Acc: 1.0000 | Val Acc: 0.8804 | Train F1: 1.0000 | Val F1: 0.8840\n"
     ]
    },
    {
     "name": "stderr",
     "output_type": "stream",
     "text": [
      "Model_2 | Epoch 9/10 [Train]: 100%|██████████| 422/422 [00:01<00:00, 303.07it/s]\n",
      "Epoch 9/10 [Val]: 100%|██████████| 121/121 [00:00<00:00, 663.62it/s]\n",
      "Model_2 | Epoch 10/10 [Train]:   7%|▋         | 30/422 [00:00<00:01, 298.72it/s]"
     ]
    },
    {
     "name": "stdout",
     "output_type": "stream",
     "text": [
      "Epoch 9/10 | Train Acc: 1.0000 | Val Acc: 0.8814 | Train F1: 1.0000 | Val F1: 0.8829\n"
     ]
    },
    {
     "name": "stderr",
     "output_type": "stream",
     "text": [
      "Model_2 | Epoch 10/10 [Train]: 100%|██████████| 422/422 [00:01<00:00, 309.86it/s]\n",
      "Epoch 10/10 [Val]: 100%|██████████| 121/121 [00:00<00:00, 646.50it/s]\n",
      "Initial Validation: 100%|██████████| 121/121 [00:00<00:00, 656.35it/s]"
     ]
    },
    {
     "name": "stdout",
     "output_type": "stream",
     "text": [
      "Epoch 10/10 | Train Acc: 1.0000 | Val Acc: 0.8814 | Train F1: 1.0000 | Val F1: 0.8824\n",
      "Model 2 training complete.\n",
      "Training model 3/5\n"
     ]
    },
    {
     "name": "stderr",
     "output_type": "stream",
     "text": [
      "\n",
      "Model_3 | Epoch 1/10 [Train]: 100%|██████████| 422/422 [00:01<00:00, 271.38it/s]\n",
      "Epoch 1/10 [Val]: 100%|██████████| 121/121 [00:00<00:00, 628.60it/s]\n",
      "Model_3 | Epoch 2/10 [Train]:   6%|▌         | 26/422 [00:00<00:01, 254.62it/s]"
     ]
    },
    {
     "name": "stdout",
     "output_type": "stream",
     "text": [
      "Epoch 1/10 | Train Acc: 0.5932 | Val Acc: 0.7608 | Train F1: 0.2992 | Val F1: 0.4254\n"
     ]
    },
    {
     "name": "stderr",
     "output_type": "stream",
     "text": [
      "Model_3 | Epoch 2/10 [Train]: 100%|██████████| 422/422 [00:01<00:00, 264.19it/s]\n",
      "Epoch 2/10 [Val]: 100%|██████████| 121/121 [00:00<00:00, 617.70it/s]\n",
      "Model_3 | Epoch 3/10 [Train]:   6%|▋         | 27/422 [00:00<00:01, 261.57it/s]"
     ]
    },
    {
     "name": "stdout",
     "output_type": "stream",
     "text": [
      "Epoch 2/10 | Train Acc: 0.7717 | Val Acc: 0.8265 | Train F1: 0.4448 | Val F1: 0.5481\n"
     ]
    },
    {
     "name": "stderr",
     "output_type": "stream",
     "text": [
      "Model_3 | Epoch 3/10 [Train]: 100%|██████████| 422/422 [00:01<00:00, 260.22it/s]\n",
      "Epoch 3/10 [Val]: 100%|██████████| 121/121 [00:00<00:00, 654.41it/s]\n",
      "Model_3 | Epoch 4/10 [Train]:   6%|▌         | 26/422 [00:00<00:01, 250.57it/s]"
     ]
    },
    {
     "name": "stdout",
     "output_type": "stream",
     "text": [
      "Epoch 3/10 | Train Acc: 0.8442 | Val Acc: 0.8579 | Train F1: 0.5881 | Val F1: 0.6572\n"
     ]
    },
    {
     "name": "stderr",
     "output_type": "stream",
     "text": [
      "Model_3 | Epoch 4/10 [Train]: 100%|██████████| 422/422 [00:01<00:00, 261.27it/s]\n",
      "Epoch 4/10 [Val]: 100%|██████████| 121/121 [00:00<00:00, 646.38it/s]\n",
      "Model_3 | Epoch 5/10 [Train]:   6%|▋         | 27/422 [00:00<00:01, 269.22it/s]"
     ]
    },
    {
     "name": "stdout",
     "output_type": "stream",
     "text": [
      "Epoch 4/10 | Train Acc: 0.8918 | Val Acc: 0.8699 | Train F1: 0.6907 | Val F1: 0.7144\n"
     ]
    },
    {
     "name": "stderr",
     "output_type": "stream",
     "text": [
      "Model_3 | Epoch 5/10 [Train]: 100%|██████████| 422/422 [00:01<00:00, 277.00it/s]\n",
      "Epoch 5/10 [Val]: 100%|██████████| 121/121 [00:00<00:00, 641.85it/s]\n",
      "Model_3 | Epoch 6/10 [Train]:   6%|▌         | 26/422 [00:00<00:01, 251.35it/s]"
     ]
    },
    {
     "name": "stdout",
     "output_type": "stream",
     "text": [
      "Epoch 5/10 | Train Acc: 0.9196 | Val Acc: 0.8735 | Train F1: 0.7551 | Val F1: 0.7507\n"
     ]
    },
    {
     "name": "stderr",
     "output_type": "stream",
     "text": [
      "Model_3 | Epoch 6/10 [Train]: 100%|██████████| 422/422 [00:01<00:00, 269.34it/s]\n",
      "Epoch 6/10 [Val]: 100%|██████████| 121/121 [00:00<00:00, 649.41it/s]\n",
      "Model_3 | Epoch 7/10 [Train]:   6%|▋         | 27/422 [00:00<00:01, 260.10it/s]"
     ]
    },
    {
     "name": "stdout",
     "output_type": "stream",
     "text": [
      "Epoch 6/10 | Train Acc: 0.9376 | Val Acc: 0.8746 | Train F1: 0.7891 | Val F1: 0.7583\n"
     ]
    },
    {
     "name": "stderr",
     "output_type": "stream",
     "text": [
      "Model_3 | Epoch 7/10 [Train]: 100%|██████████| 422/422 [00:01<00:00, 267.37it/s]\n",
      "Epoch 7/10 [Val]: 100%|██████████| 121/121 [00:00<00:00, 640.00it/s]\n",
      "Model_3 | Epoch 8/10 [Train]:   6%|▌         | 26/422 [00:00<00:01, 255.32it/s]"
     ]
    },
    {
     "name": "stdout",
     "output_type": "stream",
     "text": [
      "Epoch 7/10 | Train Acc: 0.9519 | Val Acc: 0.8728 | Train F1: 0.8067 | Val F1: 0.7591\n"
     ]
    },
    {
     "name": "stderr",
     "output_type": "stream",
     "text": [
      "Model_3 | Epoch 8/10 [Train]: 100%|██████████| 422/422 [00:01<00:00, 269.73it/s]\n",
      "Epoch 8/10 [Val]: 100%|██████████| 121/121 [00:00<00:00, 646.91it/s]\n",
      "Model_3 | Epoch 9/10 [Train]:   6%|▋         | 27/422 [00:00<00:01, 260.45it/s]"
     ]
    },
    {
     "name": "stdout",
     "output_type": "stream",
     "text": [
      "Epoch 8/10 | Train Acc: 0.9621 | Val Acc: 0.8699 | Train F1: 0.8172 | Val F1: 0.7572\n"
     ]
    },
    {
     "name": "stderr",
     "output_type": "stream",
     "text": [
      "Model_3 | Epoch 9/10 [Train]: 100%|██████████| 422/422 [00:01<00:00, 280.05it/s]\n",
      "Epoch 9/10 [Val]: 100%|██████████| 121/121 [00:00<00:00, 633.18it/s]\n",
      "Model_3 | Epoch 10/10 [Train]:   9%|▉         | 37/422 [00:00<00:01, 360.63it/s]"
     ]
    },
    {
     "name": "stdout",
     "output_type": "stream",
     "text": [
      "Epoch 9/10 | Train Acc: 0.9687 | Val Acc: 0.8730 | Train F1: 0.8278 | Val F1: 0.7720\n"
     ]
    },
    {
     "name": "stderr",
     "output_type": "stream",
     "text": [
      "Model_3 | Epoch 10/10 [Train]: 100%|██████████| 422/422 [00:01<00:00, 350.46it/s]\n",
      "Epoch 10/10 [Val]: 100%|██████████| 121/121 [00:00<00:00, 647.52it/s]\n",
      "Initial Validation: 100%|██████████| 121/121 [00:00<00:00, 666.62it/s]"
     ]
    },
    {
     "name": "stdout",
     "output_type": "stream",
     "text": [
      "Epoch 10/10 | Train Acc: 0.9755 | Val Acc: 0.8702 | Train F1: 0.8432 | Val F1: 0.7879\n",
      "Model 3 training complete.\n",
      "Training model 4/5\n"
     ]
    },
    {
     "name": "stderr",
     "output_type": "stream",
     "text": [
      "\n",
      "Model_4 | Epoch 1/10 [Train]: 100%|██████████| 422/422 [00:01<00:00, 312.68it/s]\n",
      "Epoch 1/10 [Val]: 100%|██████████| 121/121 [00:00<00:00, 684.70it/s]\n",
      "Model_4 | Epoch 2/10 [Train]:   8%|▊         | 32/422 [00:00<00:01, 314.72it/s]"
     ]
    },
    {
     "name": "stdout",
     "output_type": "stream",
     "text": [
      "Epoch 1/10 | Train Acc: 0.6061 | Val Acc: 0.7818 | Train F1: 0.3692 | Val F1: 0.5319\n"
     ]
    },
    {
     "name": "stderr",
     "output_type": "stream",
     "text": [
      "Model_4 | Epoch 2/10 [Train]: 100%|██████████| 422/422 [00:01<00:00, 310.03it/s]\n",
      "Epoch 2/10 [Val]: 100%|██████████| 121/121 [00:00<00:00, 648.15it/s]\n",
      "Model_4 | Epoch 3/10 [Train]:   8%|▊         | 33/422 [00:00<00:01, 327.54it/s]"
     ]
    },
    {
     "name": "stdout",
     "output_type": "stream",
     "text": [
      "Epoch 2/10 | Train Acc: 0.7972 | Val Acc: 0.8373 | Train F1: 0.5701 | Val F1: 0.6542\n"
     ]
    },
    {
     "name": "stderr",
     "output_type": "stream",
     "text": [
      "Model_4 | Epoch 3/10 [Train]: 100%|██████████| 422/422 [00:01<00:00, 299.02it/s]\n",
      "Epoch 3/10 [Val]: 100%|██████████| 121/121 [00:00<00:00, 674.65it/s]\n",
      "Model_4 | Epoch 4/10 [Train]:   8%|▊         | 32/422 [00:00<00:01, 310.77it/s]"
     ]
    },
    {
     "name": "stdout",
     "output_type": "stream",
     "text": [
      "Epoch 3/10 | Train Acc: 0.8597 | Val Acc: 0.8675 | Train F1: 0.6921 | Val F1: 0.7274\n"
     ]
    },
    {
     "name": "stderr",
     "output_type": "stream",
     "text": [
      "Model_4 | Epoch 4/10 [Train]: 100%|██████████| 422/422 [00:01<00:00, 312.75it/s]\n",
      "Epoch 4/10 [Val]: 100%|██████████| 121/121 [00:00<00:00, 668.68it/s]\n",
      "Model_4 | Epoch 5/10 [Train]:   8%|▊         | 32/422 [00:00<00:01, 313.17it/s]"
     ]
    },
    {
     "name": "stdout",
     "output_type": "stream",
     "text": [
      "Epoch 4/10 | Train Acc: 0.8944 | Val Acc: 0.8743 | Train F1: 0.7506 | Val F1: 0.7506\n"
     ]
    },
    {
     "name": "stderr",
     "output_type": "stream",
     "text": [
      "Model_4 | Epoch 5/10 [Train]: 100%|██████████| 422/422 [00:01<00:00, 313.63it/s]\n",
      "Epoch 5/10 [Val]: 100%|██████████| 121/121 [00:00<00:00, 636.59it/s]\n",
      "Model_4 | Epoch 6/10 [Train]:   7%|▋         | 29/422 [00:00<00:01, 288.46it/s]"
     ]
    },
    {
     "name": "stdout",
     "output_type": "stream",
     "text": [
      "Epoch 5/10 | Train Acc: 0.9139 | Val Acc: 0.8741 | Train F1: 0.7777 | Val F1: 0.7529\n"
     ]
    },
    {
     "name": "stderr",
     "output_type": "stream",
     "text": [
      "Model_4 | Epoch 6/10 [Train]: 100%|██████████| 422/422 [00:01<00:00, 307.97it/s]\n",
      "Epoch 6/10 [Val]: 100%|██████████| 121/121 [00:00<00:00, 683.64it/s]\n",
      "Model_4 | Epoch 7/10 [Train]:  10%|▉         | 41/422 [00:00<00:00, 405.77it/s]"
     ]
    },
    {
     "name": "stdout",
     "output_type": "stream",
     "text": [
      "Epoch 6/10 | Train Acc: 0.9295 | Val Acc: 0.8724 | Train F1: 0.7956 | Val F1: 0.7566\n"
     ]
    },
    {
     "name": "stderr",
     "output_type": "stream",
     "text": [
      "Model_4 | Epoch 7/10 [Train]: 100%|██████████| 422/422 [00:01<00:00, 414.04it/s]\n",
      "Epoch 7/10 [Val]: 100%|██████████| 121/121 [00:00<00:00, 663.98it/s]\n",
      "Model_4 | Epoch 8/10 [Train]:   7%|▋         | 30/422 [00:00<00:01, 290.27it/s]"
     ]
    },
    {
     "name": "stdout",
     "output_type": "stream",
     "text": [
      "Epoch 7/10 | Train Acc: 0.9447 | Val Acc: 0.8721 | Train F1: 0.8110 | Val F1: 0.7686\n"
     ]
    },
    {
     "name": "stderr",
     "output_type": "stream",
     "text": [
      "Model_4 | Epoch 8/10 [Train]: 100%|██████████| 422/422 [00:01<00:00, 292.87it/s]\n",
      "Epoch 8/10 [Val]: 100%|██████████| 121/121 [00:00<00:00, 687.03it/s]\n",
      "Model_4 | Epoch 9/10 [Train]:   9%|▉         | 40/422 [00:00<00:00, 394.02it/s]"
     ]
    },
    {
     "name": "stdout",
     "output_type": "stream",
     "text": [
      "Epoch 8/10 | Train Acc: 0.9530 | Val Acc: 0.8693 | Train F1: 0.8308 | Val F1: 0.7677\n"
     ]
    },
    {
     "name": "stderr",
     "output_type": "stream",
     "text": [
      "Model_4 | Epoch 9/10 [Train]: 100%|██████████| 422/422 [00:01<00:00, 401.33it/s]\n",
      "Epoch 9/10 [Val]: 100%|██████████| 121/121 [00:00<00:00, 664.95it/s]\n",
      "Model_4 | Epoch 10/10 [Train]:   9%|▉         | 38/422 [00:00<00:01, 375.95it/s]"
     ]
    },
    {
     "name": "stdout",
     "output_type": "stream",
     "text": [
      "Epoch 9/10 | Train Acc: 0.9611 | Val Acc: 0.8685 | Train F1: 0.8346 | Val F1: 0.7943\n"
     ]
    },
    {
     "name": "stderr",
     "output_type": "stream",
     "text": [
      "Model_4 | Epoch 10/10 [Train]: 100%|██████████| 422/422 [00:01<00:00, 319.08it/s]\n",
      "Epoch 10/10 [Val]: 100%|██████████| 121/121 [00:00<00:00, 686.46it/s]\n",
      "Initial Validation:  50%|█████     | 61/121 [00:00<00:00, 607.15it/s]"
     ]
    },
    {
     "name": "stdout",
     "output_type": "stream",
     "text": [
      "Epoch 10/10 | Train Acc: 0.9682 | Val Acc: 0.8656 | Train F1: 0.8579 | Val F1: 0.7906\n",
      "Model 4 training complete.\n",
      "Training model 5/5\n"
     ]
    },
    {
     "name": "stderr",
     "output_type": "stream",
     "text": [
      "Initial Validation: 100%|██████████| 121/121 [00:00<00:00, 607.47it/s]\n",
      "Model_5 | Epoch 1/10 [Train]: 100%|██████████| 422/422 [00:01<00:00, 217.71it/s]\n",
      "Epoch 1/10 [Val]: 100%|██████████| 121/121 [00:00<00:00, 620.52it/s]\n",
      "Model_5 | Epoch 2/10 [Train]:   6%|▌         | 25/422 [00:00<00:01, 246.95it/s]"
     ]
    },
    {
     "name": "stdout",
     "output_type": "stream",
     "text": [
      "Epoch 1/10 | Train Acc: 0.5188 | Val Acc: 0.7280 | Train F1: 0.2085 | Val F1: 0.3639\n"
     ]
    },
    {
     "name": "stderr",
     "output_type": "stream",
     "text": [
      "Model_5 | Epoch 2/10 [Train]: 100%|██████████| 422/422 [00:01<00:00, 252.91it/s]\n",
      "Epoch 2/10 [Val]: 100%|██████████| 121/121 [00:00<00:00, 616.40it/s]\n",
      "Model_5 | Epoch 3/10 [Train]:   5%|▍         | 21/422 [00:00<00:01, 207.92it/s]"
     ]
    },
    {
     "name": "stdout",
     "output_type": "stream",
     "text": [
      "Epoch 2/10 | Train Acc: 0.7296 | Val Acc: 0.8007 | Train F1: 0.3774 | Val F1: 0.4987\n"
     ]
    },
    {
     "name": "stderr",
     "output_type": "stream",
     "text": [
      "Model_5 | Epoch 3/10 [Train]: 100%|██████████| 422/422 [00:02<00:00, 205.32it/s]\n",
      "Epoch 3/10 [Val]: 100%|██████████| 121/121 [00:00<00:00, 615.60it/s]\n",
      "Model_5 | Epoch 4/10 [Train]:   5%|▍         | 21/422 [00:00<00:01, 201.51it/s]"
     ]
    },
    {
     "name": "stdout",
     "output_type": "stream",
     "text": [
      "Epoch 3/10 | Train Acc: 0.8202 | Val Acc: 0.8447 | Train F1: 0.5394 | Val F1: 0.6241\n"
     ]
    },
    {
     "name": "stderr",
     "output_type": "stream",
     "text": [
      "Model_5 | Epoch 4/10 [Train]: 100%|██████████| 422/422 [00:02<00:00, 200.91it/s]\n",
      "Epoch 4/10 [Val]: 100%|██████████| 121/121 [00:00<00:00, 601.72it/s]\n",
      "Model_5 | Epoch 5/10 [Train]:   7%|▋         | 28/422 [00:00<00:01, 272.02it/s]"
     ]
    },
    {
     "name": "stdout",
     "output_type": "stream",
     "text": [
      "Epoch 4/10 | Train Acc: 0.8778 | Val Acc: 0.8726 | Train F1: 0.6801 | Val F1: 0.7419\n"
     ]
    },
    {
     "name": "stderr",
     "output_type": "stream",
     "text": [
      "Model_5 | Epoch 5/10 [Train]: 100%|██████████| 422/422 [00:01<00:00, 230.46it/s]\n",
      "Epoch 5/10 [Val]: 100%|██████████| 121/121 [00:00<00:00, 619.39it/s]\n",
      "Model_5 | Epoch 6/10 [Train]:   7%|▋         | 28/422 [00:00<00:01, 271.58it/s]"
     ]
    },
    {
     "name": "stdout",
     "output_type": "stream",
     "text": [
      "Epoch 5/10 | Train Acc: 0.9160 | Val Acc: 0.8758 | Train F1: 0.7607 | Val F1: 0.7563\n"
     ]
    },
    {
     "name": "stderr",
     "output_type": "stream",
     "text": [
      "Model_5 | Epoch 6/10 [Train]: 100%|██████████| 422/422 [00:01<00:00, 268.52it/s]\n",
      "Epoch 6/10 [Val]: 100%|██████████| 121/121 [00:00<00:00, 616.64it/s]\n",
      "Model_5 | Epoch 7/10 [Train]:   7%|▋         | 28/422 [00:00<00:01, 271.39it/s]"
     ]
    },
    {
     "name": "stdout",
     "output_type": "stream",
     "text": [
      "Epoch 6/10 | Train Acc: 0.9348 | Val Acc: 0.8743 | Train F1: 0.7837 | Val F1: 0.7566\n"
     ]
    },
    {
     "name": "stderr",
     "output_type": "stream",
     "text": [
      "Model_5 | Epoch 7/10 [Train]: 100%|██████████| 422/422 [00:01<00:00, 217.49it/s]\n",
      "Epoch 7/10 [Val]: 100%|██████████| 121/121 [00:00<00:00, 601.76it/s]\n",
      "Model_5 | Epoch 8/10 [Train]:   6%|▌         | 25/422 [00:00<00:01, 246.66it/s]"
     ]
    },
    {
     "name": "stdout",
     "output_type": "stream",
     "text": [
      "Epoch 7/10 | Train Acc: 0.9477 | Val Acc: 0.8721 | Train F1: 0.7994 | Val F1: 0.7545\n"
     ]
    },
    {
     "name": "stderr",
     "output_type": "stream",
     "text": [
      "Model_5 | Epoch 8/10 [Train]: 100%|██████████| 422/422 [00:01<00:00, 235.27it/s]\n",
      "Epoch 8/10 [Val]: 100%|██████████| 121/121 [00:00<00:00, 581.66it/s]\n",
      "Model_5 | Epoch 9/10 [Train]:   5%|▌         | 22/422 [00:00<00:01, 219.38it/s]"
     ]
    },
    {
     "name": "stdout",
     "output_type": "stream",
     "text": [
      "Epoch 8/10 | Train Acc: 0.9603 | Val Acc: 0.8721 | Train F1: 0.8110 | Val F1: 0.7571\n"
     ]
    },
    {
     "name": "stderr",
     "output_type": "stream",
     "text": [
      "Model_5 | Epoch 9/10 [Train]: 100%|██████████| 422/422 [00:01<00:00, 215.69it/s]\n",
      "Epoch 9/10 [Val]: 100%|██████████| 121/121 [00:00<00:00, 606.78it/s]\n",
      "Model_5 | Epoch 10/10 [Train]:   6%|▌         | 24/422 [00:00<00:01, 239.85it/s]"
     ]
    },
    {
     "name": "stdout",
     "output_type": "stream",
     "text": [
      "Epoch 9/10 | Train Acc: 0.9674 | Val Acc: 0.8721 | Train F1: 0.8234 | Val F1: 0.7611\n"
     ]
    },
    {
     "name": "stderr",
     "output_type": "stream",
     "text": [
      "Model_5 | Epoch 10/10 [Train]: 100%|██████████| 422/422 [00:01<00:00, 248.25it/s]\n",
      "Epoch 10/10 [Val]: 100%|██████████| 121/121 [00:00<00:00, 613.98it/s]\n"
     ]
    },
    {
     "name": "stdout",
     "output_type": "stream",
     "text": [
      "Epoch 10/10 | Train Acc: 0.9736 | Val Acc: 0.8715 | Train F1: 0.8505 | Val F1: 0.7793\n",
      "Model 5 training complete.\n"
     ]
    }
   ],
   "source": [
    "task = Task.init(project_name='Modelling', task_name='Hyperparameter Tuning')\n",
    "\n",
    "DEVICE = torch.device(\"cuda\" if torch.cuda.is_available() else \"cpu\")\n",
    "\n",
    "for i, model in enumerate(models_to_test):\n",
    "    print(f\"Training model {i + 1}/{len(models_to_test)}\")\n",
    "    model.to(DEVICE)\n",
    "    optimizer = optim.Adam(model.parameters(), lr=1e-4)\n",
    "\n",
    "    train_model(\n",
    "        model=model,\n",
    "        model_name=f\"Model_{i + 1}\",\n",
    "        train_loader=train_loader,\n",
    "        val_loader=val_loader,\n",
    "        optimizer=optimizer,\n",
    "        num_epochs=10,\n",
    "        device=DEVICE,\n",
    "        task=task\n",
    "    )\n",
    "\n",
    "    print(f\"Model {i + 1} training complete.\")"
   ]
  },
  {
   "cell_type": "markdown",
   "id": "d96444cc",
   "metadata": {},
   "source": [
    "### Training model with weight decay"
   ]
  },
  {
   "cell_type": "code",
   "execution_count": 21,
   "id": "0304222c",
   "metadata": {},
   "outputs": [
    {
     "name": "stderr",
     "output_type": "stream",
     "text": [
      "Initial Validation: 100%|██████████| 121/121 [00:00<00:00, 640.00it/s]\n",
      "Weight_decay_Model | Epoch 1/10 [Train]: 100%|██████████| 422/422 [00:01<00:00, 241.51it/s]\n",
      "Epoch 1/10 [Val]: 100%|██████████| 121/121 [00:00<00:00, 627.98it/s]\n",
      "Weight_decay_Model | Epoch 2/10 [Train]:   6%|▌         | 25/422 [00:00<00:01, 241.97it/s]"
     ]
    },
    {
     "name": "stdout",
     "output_type": "stream",
     "text": [
      "Epoch 1/10 | Train Acc: 0.5603 | Val Acc: 0.7807 | Train F1: 0.2780 | Val F1: 0.5013\n"
     ]
    },
    {
     "name": "stderr",
     "output_type": "stream",
     "text": [
      "Weight_decay_Model | Epoch 2/10 [Train]: 100%|██████████| 422/422 [00:01<00:00, 247.69it/s]\n",
      "Epoch 2/10 [Val]: 100%|██████████| 121/121 [00:00<00:00, 635.44it/s]\n",
      "Weight_decay_Model | Epoch 3/10 [Train]:   7%|▋         | 28/422 [00:00<00:01, 278.98it/s]"
     ]
    },
    {
     "name": "stdout",
     "output_type": "stream",
     "text": [
      "Epoch 2/10 | Train Acc: 0.7807 | Val Acc: 0.8375 | Train F1: 0.5019 | Val F1: 0.6128\n"
     ]
    },
    {
     "name": "stderr",
     "output_type": "stream",
     "text": [
      "Weight_decay_Model | Epoch 3/10 [Train]: 100%|██████████| 422/422 [00:01<00:00, 276.79it/s]\n",
      "Epoch 3/10 [Val]: 100%|██████████| 121/121 [00:00<00:00, 630.23it/s]\n",
      "Weight_decay_Model | Epoch 4/10 [Train]:   6%|▌         | 26/422 [00:00<00:01, 251.25it/s]"
     ]
    },
    {
     "name": "stdout",
     "output_type": "stream",
     "text": [
      "Epoch 3/10 | Train Acc: 0.8523 | Val Acc: 0.8669 | Train F1: 0.6497 | Val F1: 0.7109\n"
     ]
    },
    {
     "name": "stderr",
     "output_type": "stream",
     "text": [
      "Weight_decay_Model | Epoch 4/10 [Train]: 100%|██████████| 422/422 [00:01<00:00, 258.24it/s]\n",
      "Epoch 4/10 [Val]: 100%|██████████| 121/121 [00:00<00:00, 634.42it/s]\n",
      "Weight_decay_Model | Epoch 5/10 [Train]:   7%|▋         | 28/422 [00:00<00:01, 277.43it/s]"
     ]
    },
    {
     "name": "stdout",
     "output_type": "stream",
     "text": [
      "Epoch 4/10 | Train Acc: 0.8912 | Val Acc: 0.8755 | Train F1: 0.7380 | Val F1: 0.7485\n"
     ]
    },
    {
     "name": "stderr",
     "output_type": "stream",
     "text": [
      "Weight_decay_Model | Epoch 5/10 [Train]: 100%|██████████| 422/422 [00:01<00:00, 278.35it/s]\n",
      "Epoch 5/10 [Val]: 100%|██████████| 121/121 [00:00<00:00, 633.30it/s]\n",
      "Weight_decay_Model | Epoch 6/10 [Train]:   7%|▋         | 28/422 [00:00<00:01, 275.05it/s]"
     ]
    },
    {
     "name": "stdout",
     "output_type": "stream",
     "text": [
      "Epoch 5/10 | Train Acc: 0.9163 | Val Acc: 0.8771 | Train F1: 0.7740 | Val F1: 0.7540\n"
     ]
    },
    {
     "name": "stderr",
     "output_type": "stream",
     "text": [
      "Weight_decay_Model | Epoch 6/10 [Train]: 100%|██████████| 422/422 [00:01<00:00, 274.59it/s]\n",
      "Epoch 6/10 [Val]: 100%|██████████| 121/121 [00:00<00:00, 629.06it/s]\n",
      "Weight_decay_Model | Epoch 7/10 [Train]:   6%|▌         | 25/422 [00:00<00:01, 249.62it/s]"
     ]
    },
    {
     "name": "stdout",
     "output_type": "stream",
     "text": [
      "Epoch 6/10 | Train Acc: 0.9339 | Val Acc: 0.8757 | Train F1: 0.7921 | Val F1: 0.7571\n"
     ]
    },
    {
     "name": "stderr",
     "output_type": "stream",
     "text": [
      "Weight_decay_Model | Epoch 7/10 [Train]: 100%|██████████| 422/422 [00:01<00:00, 270.86it/s]\n",
      "Epoch 7/10 [Val]: 100%|██████████| 121/121 [00:00<00:00, 630.11it/s]\n",
      "Weight_decay_Model | Epoch 8/10 [Train]:   7%|▋         | 29/422 [00:00<00:01, 282.59it/s]"
     ]
    },
    {
     "name": "stdout",
     "output_type": "stream",
     "text": [
      "Epoch 7/10 | Train Acc: 0.9445 | Val Acc: 0.8766 | Train F1: 0.8028 | Val F1: 0.7705\n"
     ]
    },
    {
     "name": "stderr",
     "output_type": "stream",
     "text": [
      "Weight_decay_Model | Epoch 8/10 [Train]: 100%|██████████| 422/422 [00:01<00:00, 293.66it/s]\n",
      "Epoch 8/10 [Val]: 100%|██████████| 121/121 [00:00<00:00, 632.90it/s]\n",
      "Weight_decay_Model | Epoch 9/10 [Train]:   8%|▊         | 34/422 [00:00<00:01, 338.59it/s]"
     ]
    },
    {
     "name": "stdout",
     "output_type": "stream",
     "text": [
      "Epoch 8/10 | Train Acc: 0.9561 | Val Acc: 0.8774 | Train F1: 0.8257 | Val F1: 0.7960\n"
     ]
    },
    {
     "name": "stderr",
     "output_type": "stream",
     "text": [
      "Weight_decay_Model | Epoch 9/10 [Train]: 100%|██████████| 422/422 [00:01<00:00, 328.26it/s]\n",
      "Epoch 9/10 [Val]: 100%|██████████| 121/121 [00:00<00:00, 618.06it/s]\n",
      "Weight_decay_Model | Epoch 10/10 [Train]:   8%|▊         | 32/422 [00:00<00:01, 316.21it/s]"
     ]
    },
    {
     "name": "stdout",
     "output_type": "stream",
     "text": [
      "Epoch 9/10 | Train Acc: 0.9623 | Val Acc: 0.8753 | Train F1: 0.8551 | Val F1: 0.8132\n"
     ]
    },
    {
     "name": "stderr",
     "output_type": "stream",
     "text": [
      "Weight_decay_Model | Epoch 10/10 [Train]: 100%|██████████| 422/422 [00:01<00:00, 278.13it/s]\n",
      "Epoch 10/10 [Val]: 100%|██████████| 121/121 [00:00<00:00, 586.90it/s]"
     ]
    },
    {
     "name": "stdout",
     "output_type": "stream",
     "text": [
      "Epoch 10/10 | Train Acc: 0.9695 | Val Acc: 0.8739 | Train F1: 0.8993 | Val F1: 0.8427\n"
     ]
    },
    {
     "name": "stderr",
     "output_type": "stream",
     "text": [
      "\n"
     ]
    }
   ],
   "source": [
    "model = RNAseqClassifier(\n",
    "        input_size=X_train.shape[1],\n",
    "        layer_config=[\n",
    "            {\"size\": 512, \"batchnorm\": True, \"dropout\": 0.5},\n",
    "            {\"size\": 256, \"batchnorm\": True, \"dropout\": 0.5},\n",
    "            {\"size\": 128, \"batchnorm\": True, \"dropout\": None}\n",
    "        ],\n",
    "        output_size=len(np.unique(y_train))\n",
    "    )\n",
    "optimizer = torch.optim.Adam(model.parameters(), lr=1e-4, weight_decay=1e-5)\n",
    "\n",
    "train_model(\n",
    "    model=model,\n",
    "    model_name=\"Weight_decay_Model\",\n",
    "    train_loader=train_loader,\n",
    "    val_loader=val_loader,\n",
    "    optimizer=optimizer,\n",
    "    num_epochs=10,\n",
    "    device=DEVICE,\n",
    "    task=task\n",
    ")"
   ]
  },
  {
   "cell_type": "markdown",
   "id": "d0a28b1f",
   "metadata": {},
   "source": [
    "### Plots were downloaded from ClearML"
   ]
  },
  {
   "cell_type": "code",
   "execution_count": null,
   "id": "ac776943",
   "metadata": {},
   "outputs": [],
   "source": [
    "def show_images_grid(folder_path):\n",
    "    image_files = sorted([\n",
    "        f for f in os.listdir(folder_path)\n",
    "        if f.endswith('.png')\n",
    "    ])\n",
    "\n",
    "    assert len(image_files) == 8, f\"Expected 8 images, found {len(image_files)}\"\n",
    "\n",
    "    fig, axes = plt.subplots(nrows=4, ncols=2, figsize=(14, 16))\n",
    "    axes = axes.flatten()\n",
    "\n",
    "    for ax, img_file in zip(axes, image_files):\n",
    "        img_path = os.path.join(folder_path, img_file)\n",
    "        img = mpimg.imread(img_path)\n",
    "        ax.imshow(img)\n",
    "        ax.set_title(os.path.splitext(img_file)[0], fontsize=10)\n",
    "        ax.axis('off')\n",
    "\n",
    "    plt.show()"
   ]
  },
  {
   "cell_type": "code",
   "execution_count": null,
   "id": "8eae06a0",
   "metadata": {},
   "outputs": [
    {
     "data": {
      "image/png": "[encoded data removed]",
      "text/plain": [
       "<Figure size 1400x1600 with 8 Axes>"
      ]
     },
     "metadata": {},
     "output_type": "display_data"
    }
   ],
   "source": [
    "show_images_grid(\"Plots\")"
   ]
  },
  {
   "cell_type": "markdown",
   "id": "23c65c9f",
   "metadata": {},
   "source": [
    "### As we can see the model without batch normalization and dropout achieve the highest metrics the fastest but at the same time it also overfits to the data the most. The specific value for dropout does not seem to have very significant effect. Same for number of hidden layers. As we already struggle with overfitting it does not seem necessary to try out more sophisticated architectures. Finally we can see that using weight decay can somehow help with overfitting. In the end I decided to select model with 3 hidden layers with size [512, 256, 128] and dropout 0.5 and batch norm and weight decay"
   ]
  },
  {
   "cell_type": "code",
   "execution_count": null,
   "id": "24559ca8",
   "metadata": {},
   "outputs": [],
   "source": []
  }
 ],
 "metadata": {
  "kernelspec": {
   "display_name": "scvi_env",
   "language": "python",
   "name": "python3"
  },
  "language_info": {
   "codemirror_mode": {
    "name": "ipython",
    "version": 3
   },
   "file_extension": ".py",
   "mimetype": "text/x-python",
   "name": "python",
   "nbconvert_exporter": "python",
   "pygments_lexer": "ipython3",
   "version": "3.8.10"
  }
 },
 "nbformat": 4,
 "nbformat_minor": 5
}
